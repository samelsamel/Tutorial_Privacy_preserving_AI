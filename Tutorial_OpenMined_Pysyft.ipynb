{
 "cells": [
  {
   "cell_type": "markdown",
   "metadata": {
    "colab_type": "text",
    "id": "BVXZhEWKEU95"
   },
   "source": [
    "This notebook is based on the tutorial of the OpenMined privacy preserving AI first step Pysyft Library.  \n",
    "\n"
   ]
  },
  {
   "cell_type": "markdown",
   "metadata": {},
   "source": [
    "# For a first introduction to the basics \n",
    "you can watch this video expalning the technqiues used in Privacy preserving AI which are: \n",
    "* Federated Learning \n",
    "* Secure multi party computation \n",
    "* Federated Learning \n",
    "\n",
    "\n",
    "video link: https://www.youtube.com/watch?v=39hNjnhY7cY\n",
    "\n",
    "\n"
   ]
  },
  {
   "cell_type": "markdown",
   "metadata": {},
   "source": [
    "Fisr we install Pytorch whci is the library on top of which Pysyft works on. "
   ]
  },
  {
   "cell_type": "code",
   "execution_count": 0,
   "metadata": {
    "colab": {},
    "colab_type": "code",
    "collapsed": true,
    "id": "i_R6n9NPsCzB"
   },
   "outputs": [],
   "source": [
    "!pip install -q torch==1.0.0 torchvision"
   ]
  },
  {
   "cell_type": "code",
   "execution_count": 2,
   "metadata": {
    "colab": {
     "base_uri": "https://localhost:8080/",
     "height": 1000
    },
    "colab_type": "code",
    "executionInfo": {
     "elapsed": 119383,
     "status": "ok",
     "timestamp": 1562010114150,
     "user": {
      "displayName": "amel sellami",
      "photoUrl": "https://lh6.googleusercontent.com/-Px6ADB4fL_Q/AAAAAAAAAAI/AAAAAAAAIR8/-I05N9oZ-us/s64/photo.jpg",
      "userId": "17055481402951168423"
     },
     "user_tz": 420
    },
    "id": "i8GwnZdlr--1",
    "outputId": "a1773389-60de-4aeb-aef6-9b941c5aca88",
    "scrolled": false
   },
   "outputs": [
    {
     "name": "stdout",
     "output_type": "stream",
     "text": [
      "Collecting syft\n",
      "\u001b[?25l  Downloading https://files.pythonhosted.org/packages/36/e0/7466833685e21917a78b3e26503e675c9bc82bd81c0d9a6a90c30adf9938/syft-0.1.20a1-py3-none-any.whl (213kB)\n",
      "\u001b[K     |████████████████████████████████| 215kB 5.0MB/s \n",
      "\u001b[?25hRequirement already satisfied: scikit-learn>=0.21.0 in /usr/local/lib/python3.6/dist-packages (from syft) (0.21.2)\n",
      "Requirement already satisfied: tblib>=1.4.0 in /usr/local/lib/python3.6/dist-packages (from syft) (1.4.0)\n",
      "Collecting websocket-client>=0.56.0 (from syft)\n",
      "\u001b[?25l  Downloading https://files.pythonhosted.org/packages/29/19/44753eab1fdb50770ac69605527e8859468f3c0fd7dc5a76dd9c4dbd7906/websocket_client-0.56.0-py2.py3-none-any.whl (200kB)\n",
      "\u001b[K     |████████████████████████████████| 204kB 41.0MB/s \n",
      "\u001b[?25hCollecting zstd>=1.4.0.0 (from syft)\n",
      "\u001b[?25l  Downloading https://files.pythonhosted.org/packages/8e/27/1ea8086d37424e83ab692015cc8dd7d5e37cf791e339633a40dc828dfb74/zstd-1.4.0.0.tar.gz (450kB)\n",
      "\u001b[K     |████████████████████████████████| 450kB 39.5MB/s \n",
      "\u001b[?25hCollecting lz4>=2.1.6 (from syft)\n",
      "\u001b[?25l  Downloading https://files.pythonhosted.org/packages/0a/c6/96bbb3525a63ebc53ea700cc7d37ab9045542d33b4d262d0f0408ad9bbf2/lz4-2.1.10-cp36-cp36m-manylinux1_x86_64.whl (385kB)\n",
      "\u001b[K     |████████████████████████████████| 389kB 40.7MB/s \n",
      "\u001b[?25hRequirement already satisfied: Flask>=1.0.2 in /usr/local/lib/python3.6/dist-packages (from syft) (1.0.3)\n",
      "Collecting websockets>=7.0 (from syft)\n",
      "\u001b[?25l  Downloading https://files.pythonhosted.org/packages/43/71/8bfa882b9c502c36e5c9ef6732969533670d2b039cbf95a82ced8f762b80/websockets-7.0-cp36-cp36m-manylinux1_x86_64.whl (63kB)\n",
      "\u001b[K     |████████████████████████████████| 71kB 24.7MB/s \n",
      "\u001b[?25hCollecting msgpack>=0.6.1 (from syft)\n",
      "\u001b[?25l  Downloading https://files.pythonhosted.org/packages/92/7e/ae9e91c1bb8d846efafd1f353476e3fd7309778b582d2fb4cea4cc15b9a2/msgpack-0.6.1-cp36-cp36m-manylinux1_x86_64.whl (248kB)\n",
      "\u001b[K     |████████████████████████████████| 256kB 46.7MB/s \n",
      "\u001b[?25hRequirement already satisfied: torchvision>=0.3.0 in /usr/local/lib/python3.6/dist-packages (from syft) (0.3.0)\n",
      "Collecting tf-encrypted>=0.5.4 (from syft)\n",
      "\u001b[?25l  Downloading https://files.pythonhosted.org/packages/07/ce/da9916e7e78f736894b15538b702c0b213fd5d60a7fd6e481d74033a90c0/tf_encrypted-0.5.6-py3-none-manylinux1_x86_64.whl (1.4MB)\n",
      "\u001b[K     |████████████████████████████████| 1.4MB 42.3MB/s \n",
      "\u001b[?25hRequirement already satisfied: numpy>=1.14.0 in /usr/local/lib/python3.6/dist-packages (from syft) (1.16.4)\n",
      "Collecting torch>=1.1 (from syft)\n",
      "\u001b[?25l  Downloading https://files.pythonhosted.org/packages/69/60/f685fb2cfb3088736bafbc9bdbb455327bdc8906b606da9c9a81bae1c81e/torch-1.1.0-cp36-cp36m-manylinux1_x86_64.whl (676.9MB)\n",
      "\u001b[K     |████████████████████████████████| 676.9MB 21kB/s \n",
      "\u001b[?25hCollecting flask-socketio>=3.3.2 (from syft)\n",
      "  Downloading https://files.pythonhosted.org/packages/4b/68/fe4806d3a0a5909d274367eb9b3b87262906c1515024f46c2443a36a0c82/Flask_SocketIO-4.1.0-py2.py3-none-any.whl\n",
      "Requirement already satisfied: joblib>=0.11 in /usr/local/lib/python3.6/dist-packages (from scikit-learn>=0.21.0->syft) (0.13.2)\n",
      "Requirement already satisfied: scipy>=0.17.0 in /usr/local/lib/python3.6/dist-packages (from scikit-learn>=0.21.0->syft) (1.3.0)\n",
      "Requirement already satisfied: six in /usr/local/lib/python3.6/dist-packages (from websocket-client>=0.56.0->syft) (1.12.0)\n",
      "Requirement already satisfied: Werkzeug>=0.14 in /usr/local/lib/python3.6/dist-packages (from Flask>=1.0.2->syft) (0.15.4)\n",
      "Requirement already satisfied: itsdangerous>=0.24 in /usr/local/lib/python3.6/dist-packages (from Flask>=1.0.2->syft) (1.1.0)\n",
      "Requirement already satisfied: click>=5.1 in /usr/local/lib/python3.6/dist-packages (from Flask>=1.0.2->syft) (7.0)\n",
      "Requirement already satisfied: Jinja2>=2.10 in /usr/local/lib/python3.6/dist-packages (from Flask>=1.0.2->syft) (2.10.1)\n",
      "Requirement already satisfied: pillow>=4.1.1 in /usr/local/lib/python3.6/dist-packages (from torchvision>=0.3.0->syft) (4.3.0)\n",
      "Requirement already satisfied: tensorflow<2,>=1.12.0 in /usr/local/lib/python3.6/dist-packages (from tf-encrypted>=0.5.4->syft) (1.14.0)\n",
      "Collecting pyyaml>=5.1 (from tf-encrypted>=0.5.4->syft)\n",
      "\u001b[?25l  Downloading https://files.pythonhosted.org/packages/a3/65/837fefac7475963d1eccf4aa684c23b95aa6c1d033a2c5965ccb11e22623/PyYAML-5.1.1.tar.gz (274kB)\n",
      "\u001b[K     |████████████████████████████████| 276kB 38.0MB/s \n",
      "\u001b[?25hCollecting python-socketio>=2.1.0 (from flask-socketio>=3.3.2->syft)\n",
      "\u001b[?25l  Downloading https://files.pythonhosted.org/packages/26/1b/57e860a86f2a01be86ae1dacfa0cd8c4dfbfcd4593322268b61b5a07b564/python_socketio-4.2.0-py2.py3-none-any.whl (46kB)\n",
      "\u001b[K     |████████████████████████████████| 51kB 17.2MB/s \n",
      "\u001b[?25hRequirement already satisfied: MarkupSafe>=0.23 in /usr/local/lib/python3.6/dist-packages (from Jinja2>=2.10->Flask>=1.0.2->syft) (1.1.1)\n",
      "Requirement already satisfied: olefile in /usr/local/lib/python3.6/dist-packages (from pillow>=4.1.1->torchvision>=0.3.0->syft) (0.46)\n",
      "Requirement already satisfied: wheel>=0.26 in /usr/local/lib/python3.6/dist-packages (from tensorflow<2,>=1.12.0->tf-encrypted>=0.5.4->syft) (0.33.4)\n",
      "Requirement already satisfied: gast>=0.2.0 in /usr/local/lib/python3.6/dist-packages (from tensorflow<2,>=1.12.0->tf-encrypted>=0.5.4->syft) (0.2.2)\n",
      "Requirement already satisfied: wrapt>=1.11.1 in /usr/local/lib/python3.6/dist-packages (from tensorflow<2,>=1.12.0->tf-encrypted>=0.5.4->syft) (1.11.2)\n",
      "Requirement already satisfied: keras-applications>=1.0.6 in /usr/local/lib/python3.6/dist-packages (from tensorflow<2,>=1.12.0->tf-encrypted>=0.5.4->syft) (1.0.8)\n",
      "Requirement already satisfied: google-pasta>=0.1.6 in /usr/local/lib/python3.6/dist-packages (from tensorflow<2,>=1.12.0->tf-encrypted>=0.5.4->syft) (0.1.7)\n",
      "Requirement already satisfied: grpcio>=1.8.6 in /usr/local/lib/python3.6/dist-packages (from tensorflow<2,>=1.12.0->tf-encrypted>=0.5.4->syft) (1.15.0)\n",
      "Requirement already satisfied: absl-py>=0.7.0 in /usr/local/lib/python3.6/dist-packages (from tensorflow<2,>=1.12.0->tf-encrypted>=0.5.4->syft) (0.7.1)\n",
      "Requirement already satisfied: astor>=0.6.0 in /usr/local/lib/python3.6/dist-packages (from tensorflow<2,>=1.12.0->tf-encrypted>=0.5.4->syft) (0.8.0)\n",
      "Requirement already satisfied: protobuf>=3.6.1 in /usr/local/lib/python3.6/dist-packages (from tensorflow<2,>=1.12.0->tf-encrypted>=0.5.4->syft) (3.7.1)\n",
      "Requirement already satisfied: tensorflow-estimator<1.15.0rc0,>=1.14.0rc0 in /usr/local/lib/python3.6/dist-packages (from tensorflow<2,>=1.12.0->tf-encrypted>=0.5.4->syft) (1.14.0)\n",
      "Requirement already satisfied: termcolor>=1.1.0 in /usr/local/lib/python3.6/dist-packages (from tensorflow<2,>=1.12.0->tf-encrypted>=0.5.4->syft) (1.1.0)\n",
      "Requirement already satisfied: keras-preprocessing>=1.0.5 in /usr/local/lib/python3.6/dist-packages (from tensorflow<2,>=1.12.0->tf-encrypted>=0.5.4->syft) (1.1.0)\n",
      "Requirement already satisfied: tensorboard<1.15.0,>=1.14.0 in /usr/local/lib/python3.6/dist-packages (from tensorflow<2,>=1.12.0->tf-encrypted>=0.5.4->syft) (1.14.0)\n",
      "Collecting python-engineio>=3.8.0 (from python-socketio>=2.1.0->flask-socketio>=3.3.2->syft)\n",
      "\u001b[?25l  Downloading https://files.pythonhosted.org/packages/59/1c/601f8ad22681ec9b86acafabc145b6bd02ca62aeac6aae4045d262a94a56/python_engineio-3.8.2-py2.py3-none-any.whl (119kB)\n",
      "\u001b[K     |████████████████████████████████| 122kB 43.9MB/s \n",
      "\u001b[?25hRequirement already satisfied: h5py in /usr/local/lib/python3.6/dist-packages (from keras-applications>=1.0.6->tensorflow<2,>=1.12.0->tf-encrypted>=0.5.4->syft) (2.8.0)\n",
      "Requirement already satisfied: setuptools in /usr/local/lib/python3.6/dist-packages (from protobuf>=3.6.1->tensorflow<2,>=1.12.0->tf-encrypted>=0.5.4->syft) (41.0.1)\n",
      "Requirement already satisfied: markdown>=2.6.8 in /usr/local/lib/python3.6/dist-packages (from tensorboard<1.15.0,>=1.14.0->tensorflow<2,>=1.12.0->tf-encrypted>=0.5.4->syft) (3.1.1)\n",
      "Building wheels for collected packages: zstd, pyyaml\n",
      "  Building wheel for zstd (setup.py) ... \u001b[?25l\u001b[?25hdone\n",
      "  Stored in directory: /root/.cache/pip/wheels/ad/9a/f4/3105b5209674ac77fcca7fede95184c62a95df0196888e0e76\n",
      "  Building wheel for pyyaml (setup.py) ... \u001b[?25l\u001b[?25hdone\n",
      "  Stored in directory: /root/.cache/pip/wheels/16/27/a1/775c62ddea7bfa62324fd1f65847ed31c55dadb6051481ba3f\n",
      "Successfully built zstd pyyaml\n",
      "Installing collected packages: websocket-client, zstd, lz4, websockets, msgpack, pyyaml, tf-encrypted, torch, python-engineio, python-socketio, flask-socketio, syft\n",
      "  Found existing installation: msgpack 0.5.6\n",
      "    Uninstalling msgpack-0.5.6:\n",
      "      Successfully uninstalled msgpack-0.5.6\n",
      "  Found existing installation: PyYAML 3.13\n",
      "    Uninstalling PyYAML-3.13:\n",
      "      Successfully uninstalled PyYAML-3.13\n",
      "  Found existing installation: torch 1.0.0\n",
      "    Uninstalling torch-1.0.0:\n",
      "      Successfully uninstalled torch-1.0.0\n",
      "Successfully installed flask-socketio-4.1.0 lz4-2.1.10 msgpack-0.6.1 python-engineio-3.8.2 python-socketio-4.2.0 pyyaml-5.1.1 syft-0.1.20a1 tf-encrypted-0.5.6 torch-1.1.0 websocket-client-0.56.0 websockets-7.0 zstd-1.4.0.0\n",
      "Requirement already satisfied: numpy in /usr/local/lib/python3.6/dist-packages (1.16.4)\n"
     ]
    }
   ],
   "source": [
    "!pip install syft\n",
    "!pip install numpy"
   ]
  },
  {
   "cell_type": "markdown",
   "metadata": {},
   "source": [
    "A tensor is the genreal word for a variable, a vector, a matrix , a 3D array etc.. \n",
    "Pysyft uses pointers of tensors. Pointers are used to facliltate the computation on data \n",
    "that it could only be seen by the data owner.\n",
    "There are different types of pointers, but these ones are for more advanced usage."
   ]
  },
  {
   "cell_type": "code",
   "execution_count": 3,
   "metadata": {
    "colab": {
     "base_uri": "https://localhost:8080/",
     "height": 124
    },
    "colab_type": "code",
    "executionInfo": {
     "elapsed": 7602,
     "status": "ok",
     "timestamp": 1562010150911,
     "user": {
      "displayName": "amel sellami",
      "photoUrl": "https://lh6.googleusercontent.com/-Px6ADB4fL_Q/AAAAAAAAAAI/AAAAAAAAIR8/-I05N9oZ-us/s64/photo.jpg",
      "userId": "17055481402951168423"
     },
     "user_tz": 420
    },
    "id": "SyLvMpsPs1uu",
    "outputId": "2a33a15f-a9ba-45a2-af3f-6e59eac17f0c"
   },
   "outputs": [
    {
     "name": "stderr",
     "output_type": "stream",
     "text": [
      "WARNING: Logging before flag parsing goes to stderr.\n",
      "W0701 19:41:20.025411 140096891082624 secure_random.py:26] Falling back to insecure randomness since the required custom op could not be found for the installed version of TensorFlow. Fix this by compiling custom ops. Missing file was '/usr/local/lib/python3.6/dist-packages/tf_encrypted/operations/secure_random/secure_random_module_tf_1.14.0.so'\n",
      "W0701 19:41:20.045705 140096891082624 deprecation_wrapper.py:119] From /usr/local/lib/python3.6/dist-packages/tf_encrypted/session.py:26: The name tf.Session is deprecated. Please use tf.compat.v1.Session instead.\n",
      "\n"
     ]
    },
    {
     "data": {
      "text/plain": [
       "tensor([1, 2, 3, 4, 5])"
      ]
     },
     "execution_count": 3,
     "metadata": {
      "tags": []
     },
     "output_type": "execute_result"
    }
   ],
   "source": [
    "# Run this cell to see if things work\n",
    "import syft as sy\n",
    "from syft.frameworks.torch.pointers import PointerTensor\n",
    "from syft.frameworks.torch.tensors.decorators import LoggingTensor\n",
    "import sys\n",
    "import torch\n",
    "hook = sy.TorchHook(torch)\n",
    "from torch.nn import Parameter\n",
    "import torch.nn as nn\n",
    "import torch.nn.functional as F\n",
    "\n",
    "torch.tensor([1,2,3,4,5])"
   ]
  },
  {
   "cell_type": "markdown",
   "metadata": {
    "colab_type": "text",
    "id": "LfrmA82St_iN"
   },
   "source": [
    "#Part 1: The Basic Tools of Private, Decentralized Data Science"
   ]
  },
  {
   "cell_type": "markdown",
   "metadata": {
    "colab_type": "text",
    "id": "y7PE8UeYuIED"
   },
   "source": [
    "So - the first question you may be wondering is - How in the world do we train a model on data we don't have access to?\n",
    "\n",
    "Well, the answer is surprisingly simple. If you're used to working in PyTorch, then you're used to working with torch.Tensor objects like these!"
   ]
  },
  {
   "cell_type": "code",
   "execution_count": 4,
   "metadata": {
    "colab": {
     "base_uri": "https://localhost:8080/",
     "height": 34
    },
    "colab_type": "code",
    "executionInfo": {
     "elapsed": 566,
     "status": "ok",
     "timestamp": 1562010154582,
     "user": {
      "displayName": "amel sellami",
      "photoUrl": "https://lh6.googleusercontent.com/-Px6ADB4fL_Q/AAAAAAAAAAI/AAAAAAAAIR8/-I05N9oZ-us/s64/photo.jpg",
      "userId": "17055481402951168423"
     },
     "user_tz": 420
    },
    "id": "iMRq3GOfuMwO",
    "outputId": "93921509-b41c-45bb-96fb-dd437ad18d48"
   },
   "outputs": [
    {
     "name": "stdout",
     "output_type": "stream",
     "text": [
      "tensor([ 2,  4,  6,  8, 10])\n"
     ]
    }
   ],
   "source": [
    "x = torch.tensor([1,2,3,4,5])\n",
    "y = x + x\n",
    "print(y)\n"
   ]
  },
  {
   "cell_type": "markdown",
   "metadata": {
    "colab_type": "text",
    "id": "7IXqFMrnuX9m"
   },
   "source": [
    "Obviously, using these super fancy (and powerful!) tensors is important, but also requires you to have the data on your local machine. This is where our journey begins."
   ]
  },
  {
   "cell_type": "markdown",
   "metadata": {
    "colab_type": "text",
    "id": "aeMyebf7ujZ6"
   },
   "source": [
    "#Section 1.1 - Sending Tensors to Bob's Machine"
   ]
  },
  {
   "cell_type": "markdown",
   "metadata": {
    "colab_type": "text",
    "id": "uoEeODaSupyN"
   },
   "source": [
    "Whereas normally we would perform data science / deep learning on the machine which holds the data, now we want to perform this kind of computation on some other machine. More specifically, we can no longer simply assume that the data is on our local machine.\n",
    "\n",
    "Thus, instead of using Torch tensors, we're now going to work with pointers to tensors. Let me show you what I mean. First, let's create a \"pretend\" machine owned by a \"pretend\" person - we'll call him Bob."
   ]
  },
  {
   "cell_type": "code",
   "execution_count": 0,
   "metadata": {
    "colab": {},
    "colab_type": "code",
    "collapsed": true,
    "id": "JRyPg1bjuRR_"
   },
   "outputs": [],
   "source": [
    "\n",
    "\n",
    "bob = sy.VirtualWorker(hook, id=\"bob\")\n",
    "\n"
   ]
  },
  {
   "cell_type": "markdown",
   "metadata": {
    "colab_type": "text",
    "id": "X5djfnpluwoi"
   },
   "source": [
    "Let's say Bob's machine is on another planet - perhaps on Mars! But, at the moment the machine is empty. Let's create some data so that we can send it to Bob and learn about pointers!"
   ]
  },
  {
   "cell_type": "code",
   "execution_count": 0,
   "metadata": {
    "colab": {},
    "colab_type": "code",
    "collapsed": true,
    "id": "q-Snj7O5utDK"
   },
   "outputs": [],
   "source": [
    "x = torch.tensor([1,2,3,4,5])\n",
    "y = torch.tensor([1,1,1,1,1])"
   ]
  },
  {
   "cell_type": "markdown",
   "metadata": {
    "colab_type": "text",
    "id": "NkfTTmdWu1oT"
   },
   "source": [
    "\n",
    "\n",
    "And now - let's send our tensors to Bob!!\n"
   ]
  },
  {
   "cell_type": "code",
   "execution_count": 0,
   "metadata": {
    "colab": {},
    "colab_type": "code",
    "collapsed": true,
    "id": "uq-WbZt_u0VZ"
   },
   "outputs": [],
   "source": [
    "x_ptr = x.send(bob)\n",
    "y_ptr = y.send(bob)"
   ]
  },
  {
   "cell_type": "markdown",
   "metadata": {
    "colab_type": "text",
    "id": "kWTPQ_jGu97m"
   },
   "source": [
    "\n",
    "\n",
    "BOOM! Now Bob has two tensors! Don't believe me? Have a look for yourself!\n"
   ]
  },
  {
   "cell_type": "code",
   "execution_count": 8,
   "metadata": {
    "colab": {
     "base_uri": "https://localhost:8080/",
     "height": 34
    },
    "colab_type": "code",
    "executionInfo": {
     "elapsed": 569,
     "status": "ok",
     "timestamp": 1562010168837,
     "user": {
      "displayName": "amel sellami",
      "photoUrl": "https://lh6.googleusercontent.com/-Px6ADB4fL_Q/AAAAAAAAAAI/AAAAAAAAIR8/-I05N9oZ-us/s64/photo.jpg",
      "userId": "17055481402951168423"
     },
     "user_tz": 420
    },
    "id": "uyKCtWlKu6cX",
    "outputId": "69fc50d7-dbf8-4b44-a024-583de67e8826"
   },
   "outputs": [
    {
     "data": {
      "text/plain": [
       "{48296231243: tensor([1, 1, 1, 1, 1]), 82854278857: tensor([1, 2, 3, 4, 5])}"
      ]
     },
     "execution_count": 8,
     "metadata": {
      "tags": []
     },
     "output_type": "execute_result"
    }
   ],
   "source": [
    "bob._objects\n"
   ]
  },
  {
   "cell_type": "markdown",
   "metadata": {
    "colab_type": "text",
    "id": "w3fQhRe8vN7c"
   },
   "source": [
    "\n",
    "\n",
    "Now notice something. When we called x.send(bob) it returned a new object that we called x_ptr. This is our first pointer to a tensor. Pointers to tensors do NOT actually hold data themselves. Instead, they simply contain metadata about a tensor (with data) stored on another machine. The purpose of these tensors is to give us an intuitive API to tell the other machine to compute functions using this tensor. Let's take a look at the metadata that pointers contain.\n"
   ]
  },
  {
   "cell_type": "code",
   "execution_count": 9,
   "metadata": {
    "colab": {
     "base_uri": "https://localhost:8080/",
     "height": 34
    },
    "colab_type": "code",
    "executionInfo": {
     "elapsed": 597,
     "status": "ok",
     "timestamp": 1562010171401,
     "user": {
      "displayName": "amel sellami",
      "photoUrl": "https://lh6.googleusercontent.com/-Px6ADB4fL_Q/AAAAAAAAAAI/AAAAAAAAIR8/-I05N9oZ-us/s64/photo.jpg",
      "userId": "17055481402951168423"
     },
     "user_tz": 420
    },
    "id": "Gt_0RZw-vCAt",
    "outputId": "5be217ba-cccd-49dc-86cb-66d729796298"
   },
   "outputs": [
    {
     "data": {
      "text/plain": [
       "(Wrapper)>[PointerTensor | me:93809677720 -> bob:82854278857]"
      ]
     },
     "execution_count": 9,
     "metadata": {
      "tags": []
     },
     "output_type": "execute_result"
    }
   ],
   "source": [
    "x_ptr"
   ]
  },
  {
   "cell_type": "markdown",
   "metadata": {
    "colab_type": "text",
    "id": "_HvHtAahvf7Q"
   },
   "source": [
    "\n",
    "\n",
    "(Wrapper)>[PointerTensor | me:8030612864 -> bob:14597461368]\n",
    "\n",
    "Check out that metadata!\n",
    "\n",
    "There are two main attributes specific to pointers:\n",
    "\n",
    "    x_ptr.location : bob, the location, a reference to the location that the pointer is pointing to\n",
    "    x_ptr.id_at_location : <random integer>, the id where the tensor is stored at location\n",
    "\n",
    "They are printed in the format <id_at_location>@<location>\n",
    "\n",
    "There are also other more generic attributes:\n",
    "\n",
    "    x_ptr.id : <random integer>, the id of oui pointer tensor, it was allocated randomly\n",
    "    x_ptr.owner : me, the worker which owns the pointer tensor, here it's the local worker, named \"me\"\n",
    "\n"
   ]
  },
  {
   "cell_type": "code",
   "execution_count": 10,
   "metadata": {
    "colab": {
     "base_uri": "https://localhost:8080/",
     "height": 34
    },
    "colab_type": "code",
    "executionInfo": {
     "elapsed": 496,
     "status": "ok",
     "timestamp": 1562010173347,
     "user": {
      "displayName": "amel sellami",
      "photoUrl": "https://lh6.googleusercontent.com/-Px6ADB4fL_Q/AAAAAAAAAAI/AAAAAAAAIR8/-I05N9oZ-us/s64/photo.jpg",
      "userId": "17055481402951168423"
     },
     "user_tz": 420
    },
    "id": "tU56Rh25vbCM",
    "outputId": "65c82396-bb0d-4638-d4ae-4d5d0fdc3c3a"
   },
   "outputs": [
    {
     "data": {
      "text/plain": [
       "<VirtualWorker id:bob #objects:2>"
      ]
     },
     "execution_count": 10,
     "metadata": {
      "tags": []
     },
     "output_type": "execute_result"
    }
   ],
   "source": [
    "\n",
    "\n",
    "x_ptr.location\n",
    "\n"
   ]
  },
  {
   "cell_type": "code",
   "execution_count": 11,
   "metadata": {
    "colab": {
     "base_uri": "https://localhost:8080/",
     "height": 34
    },
    "colab_type": "code",
    "executionInfo": {
     "elapsed": 930,
     "status": "ok",
     "timestamp": 1562010174961,
     "user": {
      "displayName": "amel sellami",
      "photoUrl": "https://lh6.googleusercontent.com/-Px6ADB4fL_Q/AAAAAAAAAAI/AAAAAAAAIR8/-I05N9oZ-us/s64/photo.jpg",
      "userId": "17055481402951168423"
     },
     "user_tz": 420
    },
    "id": "2IJqQFHdvjWR",
    "outputId": "aeb74730-f129-42c2-c6c4-b2dd3c8fb2df"
   },
   "outputs": [
    {
     "data": {
      "text/plain": [
       "<VirtualWorker id:bob #objects:2>"
      ]
     },
     "execution_count": 11,
     "metadata": {
      "tags": []
     },
     "output_type": "execute_result"
    }
   ],
   "source": [
    "bob"
   ]
  },
  {
   "cell_type": "code",
   "execution_count": 12,
   "metadata": {
    "colab": {
     "base_uri": "https://localhost:8080/",
     "height": 34
    },
    "colab_type": "code",
    "executionInfo": {
     "elapsed": 466,
     "status": "ok",
     "timestamp": 1562010175374,
     "user": {
      "displayName": "amel sellami",
      "photoUrl": "https://lh6.googleusercontent.com/-Px6ADB4fL_Q/AAAAAAAAAAI/AAAAAAAAIR8/-I05N9oZ-us/s64/photo.jpg",
      "userId": "17055481402951168423"
     },
     "user_tz": 420
    },
    "id": "VYte4O_ovm7a",
    "outputId": "c62d5066-454a-4102-c3d5-7284fc602707"
   },
   "outputs": [
    {
     "data": {
      "text/plain": [
       "True"
      ]
     },
     "execution_count": 12,
     "metadata": {
      "tags": []
     },
     "output_type": "execute_result"
    }
   ],
   "source": [
    "bob == x_ptr.location"
   ]
  },
  {
   "cell_type": "code",
   "execution_count": 13,
   "metadata": {
    "colab": {
     "base_uri": "https://localhost:8080/",
     "height": 34
    },
    "colab_type": "code",
    "executionInfo": {
     "elapsed": 430,
     "status": "ok",
     "timestamp": 1562010176791,
     "user": {
      "displayName": "amel sellami",
      "photoUrl": "https://lh6.googleusercontent.com/-Px6ADB4fL_Q/AAAAAAAAAAI/AAAAAAAAIR8/-I05N9oZ-us/s64/photo.jpg",
      "userId": "17055481402951168423"
     },
     "user_tz": 420
    },
    "id": "Ak3QyEDrvo8s",
    "outputId": "0a4bfd1a-1512-4c9d-c53c-31ea35460e53"
   },
   "outputs": [
    {
     "data": {
      "text/plain": [
       "82854278857"
      ]
     },
     "execution_count": 13,
     "metadata": {
      "tags": []
     },
     "output_type": "execute_result"
    }
   ],
   "source": [
    "x_ptr.id_at_location"
   ]
  },
  {
   "cell_type": "code",
   "execution_count": 14,
   "metadata": {
    "colab": {
     "base_uri": "https://localhost:8080/",
     "height": 34
    },
    "colab_type": "code",
    "executionInfo": {
     "elapsed": 695,
     "status": "ok",
     "timestamp": 1562010178357,
     "user": {
      "displayName": "amel sellami",
      "photoUrl": "https://lh6.googleusercontent.com/-Px6ADB4fL_Q/AAAAAAAAAAI/AAAAAAAAIR8/-I05N9oZ-us/s64/photo.jpg",
      "userId": "17055481402951168423"
     },
     "user_tz": 420
    },
    "id": "81li_VhdvrhE",
    "outputId": "7f597f9c-800d-4ad0-8551-309666b492a1"
   },
   "outputs": [
    {
     "data": {
      "text/plain": [
       "<VirtualWorker id:me #objects:0>"
      ]
     },
     "execution_count": 14,
     "metadata": {
      "tags": []
     },
     "output_type": "execute_result"
    }
   ],
   "source": [
    "x_ptr.owner"
   ]
  },
  {
   "cell_type": "markdown",
   "metadata": {
    "colab_type": "text",
    "id": "I_RBcwKpvxmP"
   },
   "source": [
    "\n",
    "\n",
    "You may wonder why the local worker which owns the pointer is also a VirtualWorker, although we didn't create it. Fun fact, just like we had a VirtualWorker object for Bob, we (by default) always have one for us as well. This worker is automatically created when we called hook = sy.TorchHook() and so you don't usually have to create it yourself.\n"
   ]
  },
  {
   "cell_type": "code",
   "execution_count": 15,
   "metadata": {
    "colab": {
     "base_uri": "https://localhost:8080/",
     "height": 34
    },
    "colab_type": "code",
    "executionInfo": {
     "elapsed": 581,
     "status": "ok",
     "timestamp": 1562010181024,
     "user": {
      "displayName": "amel sellami",
      "photoUrl": "https://lh6.googleusercontent.com/-Px6ADB4fL_Q/AAAAAAAAAAI/AAAAAAAAIR8/-I05N9oZ-us/s64/photo.jpg",
      "userId": "17055481402951168423"
     },
     "user_tz": 420
    },
    "id": "Na9ceVk9vtWk",
    "outputId": "da3ace0b-8d77-4e25-873f-bca18b0fe12b"
   },
   "outputs": [
    {
     "data": {
      "text/plain": [
       "<VirtualWorker id:me #objects:0>"
      ]
     },
     "execution_count": 15,
     "metadata": {
      "tags": []
     },
     "output_type": "execute_result"
    }
   ],
   "source": [
    "me = sy.local_worker\n",
    "me"
   ]
  },
  {
   "cell_type": "code",
   "execution_count": 16,
   "metadata": {
    "colab": {
     "base_uri": "https://localhost:8080/",
     "height": 34
    },
    "colab_type": "code",
    "executionInfo": {
     "elapsed": 559,
     "status": "ok",
     "timestamp": 1562010182017,
     "user": {
      "displayName": "amel sellami",
      "photoUrl": "https://lh6.googleusercontent.com/-Px6ADB4fL_Q/AAAAAAAAAAI/AAAAAAAAIR8/-I05N9oZ-us/s64/photo.jpg",
      "userId": "17055481402951168423"
     },
     "user_tz": 420
    },
    "id": "hgx0ZiHPv4Jg",
    "outputId": "d6cc76a7-7bb4-4825-e42d-0126781e076a"
   },
   "outputs": [
    {
     "data": {
      "text/plain": [
       "True"
      ]
     },
     "execution_count": 16,
     "metadata": {
      "tags": []
     },
     "output_type": "execute_result"
    }
   ],
   "source": [
    "me == x_ptr.owner"
   ]
  },
  {
   "cell_type": "markdown",
   "metadata": {
    "colab_type": "text",
    "id": "J3gqoKIOwABF"
   },
   "source": [
    "And finally, just like we can call .send() on a tensor, we can call .get() on a pointer to a tensor to get it back!!!"
   ]
  },
  {
   "cell_type": "code",
   "execution_count": 17,
   "metadata": {
    "colab": {
     "base_uri": "https://localhost:8080/",
     "height": 34
    },
    "colab_type": "code",
    "executionInfo": {
     "elapsed": 547,
     "status": "ok",
     "timestamp": 1562010184740,
     "user": {
      "displayName": "amel sellami",
      "photoUrl": "https://lh6.googleusercontent.com/-Px6ADB4fL_Q/AAAAAAAAAAI/AAAAAAAAIR8/-I05N9oZ-us/s64/photo.jpg",
      "userId": "17055481402951168423"
     },
     "user_tz": 420
    },
    "id": "ONV81RCYv6Kl",
    "outputId": "9175a97e-8f09-4ed4-e540-959834c68495"
   },
   "outputs": [
    {
     "data": {
      "text/plain": [
       "(Wrapper)>[PointerTensor | me:93809677720 -> bob:82854278857]"
      ]
     },
     "execution_count": 17,
     "metadata": {
      "tags": []
     },
     "output_type": "execute_result"
    }
   ],
   "source": [
    "x_ptr"
   ]
  },
  {
   "cell_type": "code",
   "execution_count": 18,
   "metadata": {
    "colab": {
     "base_uri": "https://localhost:8080/",
     "height": 34
    },
    "colab_type": "code",
    "executionInfo": {
     "elapsed": 502,
     "status": "ok",
     "timestamp": 1562010186121,
     "user": {
      "displayName": "amel sellami",
      "photoUrl": "https://lh6.googleusercontent.com/-Px6ADB4fL_Q/AAAAAAAAAAI/AAAAAAAAIR8/-I05N9oZ-us/s64/photo.jpg",
      "userId": "17055481402951168423"
     },
     "user_tz": 420
    },
    "id": "H0gR-PAPwDBv",
    "outputId": "54e2586b-26e7-4e00-aeb1-d8c4993c1570"
   },
   "outputs": [
    {
     "data": {
      "text/plain": [
       "tensor([1, 2, 3, 4, 5])"
      ]
     },
     "execution_count": 18,
     "metadata": {
      "tags": []
     },
     "output_type": "execute_result"
    }
   ],
   "source": [
    "x_ptr.get()"
   ]
  },
  {
   "cell_type": "code",
   "execution_count": 19,
   "metadata": {
    "colab": {
     "base_uri": "https://localhost:8080/",
     "height": 34
    },
    "colab_type": "code",
    "executionInfo": {
     "elapsed": 456,
     "status": "ok",
     "timestamp": 1562010187475,
     "user": {
      "displayName": "amel sellami",
      "photoUrl": "https://lh6.googleusercontent.com/-Px6ADB4fL_Q/AAAAAAAAAAI/AAAAAAAAIR8/-I05N9oZ-us/s64/photo.jpg",
      "userId": "17055481402951168423"
     },
     "user_tz": 420
    },
    "id": "ZnAxObKWwF-H",
    "outputId": "e72040d2-3d12-4955-a5cf-701636e24a21"
   },
   "outputs": [
    {
     "data": {
      "text/plain": [
       "(Wrapper)>[PointerTensor | me:69126932663 -> bob:48296231243]"
      ]
     },
     "execution_count": 19,
     "metadata": {
      "tags": []
     },
     "output_type": "execute_result"
    }
   ],
   "source": [
    "y_ptr"
   ]
  },
  {
   "cell_type": "code",
   "execution_count": 20,
   "metadata": {
    "colab": {
     "base_uri": "https://localhost:8080/",
     "height": 34
    },
    "colab_type": "code",
    "executionInfo": {
     "elapsed": 671,
     "status": "ok",
     "timestamp": 1562010188746,
     "user": {
      "displayName": "amel sellami",
      "photoUrl": "https://lh6.googleusercontent.com/-Px6ADB4fL_Q/AAAAAAAAAAI/AAAAAAAAIR8/-I05N9oZ-us/s64/photo.jpg",
      "userId": "17055481402951168423"
     },
     "user_tz": 420
    },
    "id": "Sp5e6IjvwJCG",
    "outputId": "a8640c28-b320-4d7c-95cf-963f6fc3152b"
   },
   "outputs": [
    {
     "data": {
      "text/plain": [
       "tensor([1, 1, 1, 1, 1])"
      ]
     },
     "execution_count": 20,
     "metadata": {
      "tags": []
     },
     "output_type": "execute_result"
    }
   ],
   "source": [
    "y_ptr.get()"
   ]
  },
  {
   "cell_type": "code",
   "execution_count": 21,
   "metadata": {
    "colab": {
     "base_uri": "https://localhost:8080/",
     "height": 34
    },
    "colab_type": "code",
    "executionInfo": {
     "elapsed": 763,
     "status": "ok",
     "timestamp": 1562010189844,
     "user": {
      "displayName": "amel sellami",
      "photoUrl": "https://lh6.googleusercontent.com/-Px6ADB4fL_Q/AAAAAAAAAAI/AAAAAAAAIR8/-I05N9oZ-us/s64/photo.jpg",
      "userId": "17055481402951168423"
     },
     "user_tz": 420
    },
    "id": "Wk4_42tqwLUW",
    "outputId": "22deef67-16f3-4ddd-ac2a-0daf1af881f3"
   },
   "outputs": [
    {
     "data": {
      "text/plain": [
       "{}"
      ]
     },
     "execution_count": 21,
     "metadata": {
      "tags": []
     },
     "output_type": "execute_result"
    }
   ],
   "source": [
    "bob._objects"
   ]
  },
  {
   "cell_type": "markdown",
   "metadata": {
    "colab_type": "text",
    "id": "nrhHG8xlwS_9"
   },
   "source": [
    "And as you can see... Bob no longer has the tensors anymore!!! They've moved back to our machine!"
   ]
  },
  {
   "cell_type": "markdown",
   "metadata": {
    "colab_type": "text",
    "id": "wCvLF3OcwSTK"
   },
   "source": [
    "#Section 1.2 - Using Tensor Pointers"
   ]
  },
  {
   "cell_type": "markdown",
   "metadata": {
    "colab_type": "text",
    "id": "vbDQwyodw7e9"
   },
   "source": [
    "So, sending and receiving tensors from Bob is great, but this is hardly Deep Learning! We want to be able to perform tensor operations on remote tensors. Fortunately, tensor pointers make this quite easy! You can just use pointers like you would normal tensors!"
   ]
  },
  {
   "cell_type": "code",
   "execution_count": 0,
   "metadata": {
    "colab": {},
    "colab_type": "code",
    "collapsed": true,
    "id": "ufUNEJ1FwOvu"
   },
   "outputs": [],
   "source": [
    "x = torch.tensor([1,2,3,4,5]).send(bob)\n",
    "y = torch.tensor([1,1,1,1,1]).send(bob)"
   ]
  },
  {
   "cell_type": "code",
   "execution_count": 0,
   "metadata": {
    "colab": {},
    "colab_type": "code",
    "collapsed": true,
    "id": "KK5H_yx1xAet"
   },
   "outputs": [],
   "source": [
    "z = x + y"
   ]
  },
  {
   "cell_type": "code",
   "execution_count": 24,
   "metadata": {
    "colab": {
     "base_uri": "https://localhost:8080/",
     "height": 34
    },
    "colab_type": "code",
    "executionInfo": {
     "elapsed": 772,
     "status": "ok",
     "timestamp": 1562010196282,
     "user": {
      "displayName": "amel sellami",
      "photoUrl": "https://lh6.googleusercontent.com/-Px6ADB4fL_Q/AAAAAAAAAAI/AAAAAAAAIR8/-I05N9oZ-us/s64/photo.jpg",
      "userId": "17055481402951168423"
     },
     "user_tz": 420
    },
    "id": "9kD5ZBBOxCu9",
    "outputId": "71ddd490-a290-4a9b-9de2-042c70cf6acf"
   },
   "outputs": [
    {
     "data": {
      "text/plain": [
       "(Wrapper)>[PointerTensor | me:85173069576 -> bob:2716848079]"
      ]
     },
     "execution_count": 24,
     "metadata": {
      "tags": []
     },
     "output_type": "execute_result"
    }
   ],
   "source": [
    "z"
   ]
  },
  {
   "cell_type": "code",
   "execution_count": 0,
   "metadata": {
    "colab": {},
    "colab_type": "code",
    "collapsed": true,
    "id": "zWv3NcJ7xFJc"
   },
   "outputs": [],
   "source": []
  },
  {
   "cell_type": "markdown",
   "metadata": {
    "colab_type": "text",
    "id": "aHXyoDaaxIrC"
   },
   "source": [
    "\n",
    "\n",
    "And voilà!\n",
    "\n",
    "Behind the scenes, something very powerful happened. Instead of x and y computing an addition locally, a command was serialized and sent to Bob, who performed the computation, created a tensor z, and then returned the pointer to z back to us!\n",
    "\n",
    "If we call .get() on the pointer, we will then receive the result back to our machine!\n"
   ]
  },
  {
   "cell_type": "code",
   "execution_count": 25,
   "metadata": {
    "colab": {
     "base_uri": "https://localhost:8080/",
     "height": 34
    },
    "colab_type": "code",
    "executionInfo": {
     "elapsed": 694,
     "status": "ok",
     "timestamp": 1562010248052,
     "user": {
      "displayName": "amel sellami",
      "photoUrl": "https://lh6.googleusercontent.com/-Px6ADB4fL_Q/AAAAAAAAAAI/AAAAAAAAIR8/-I05N9oZ-us/s64/photo.jpg",
      "userId": "17055481402951168423"
     },
     "user_tz": 420
    },
    "id": "awdvzYDyxJuu",
    "outputId": "f90583df-2830-4847-8c6c-83ee7259eac5"
   },
   "outputs": [
    {
     "data": {
      "text/plain": [
       "tensor([2, 3, 4, 5, 6])"
      ]
     },
     "execution_count": 25,
     "metadata": {
      "tags": []
     },
     "output_type": "execute_result"
    }
   ],
   "source": [
    "\n",
    "\n",
    "z.get()\n",
    "\n"
   ]
  },
  {
   "cell_type": "markdown",
   "metadata": {
    "colab_type": "text",
    "id": "pALaZW7fxQ19"
   },
   "source": [
    "\n",
    "#Torch Functions\n",
    "\n",
    "This API has been extended to all of Torch's operations!!!\n"
   ]
  },
  {
   "cell_type": "code",
   "execution_count": 26,
   "metadata": {
    "colab": {
     "base_uri": "https://localhost:8080/",
     "height": 34
    },
    "colab_type": "code",
    "executionInfo": {
     "elapsed": 561,
     "status": "ok",
     "timestamp": 1562010250783,
     "user": {
      "displayName": "amel sellami",
      "photoUrl": "https://lh6.googleusercontent.com/-Px6ADB4fL_Q/AAAAAAAAAAI/AAAAAAAAIR8/-I05N9oZ-us/s64/photo.jpg",
      "userId": "17055481402951168423"
     },
     "user_tz": 420
    },
    "id": "HytmbDRfxL4Z",
    "outputId": "61eb67e4-8704-4d59-d2ea-c193c518c9b9"
   },
   "outputs": [
    {
     "data": {
      "text/plain": [
       "(Wrapper)>[PointerTensor | me:805753185 -> bob:68096254417]"
      ]
     },
     "execution_count": 26,
     "metadata": {
      "tags": []
     },
     "output_type": "execute_result"
    }
   ],
   "source": [
    "x"
   ]
  },
  {
   "cell_type": "code",
   "execution_count": 27,
   "metadata": {
    "colab": {
     "base_uri": "https://localhost:8080/",
     "height": 34
    },
    "colab_type": "code",
    "executionInfo": {
     "elapsed": 967,
     "status": "ok",
     "timestamp": 1562010252202,
     "user": {
      "displayName": "amel sellami",
      "photoUrl": "https://lh6.googleusercontent.com/-Px6ADB4fL_Q/AAAAAAAAAAI/AAAAAAAAIR8/-I05N9oZ-us/s64/photo.jpg",
      "userId": "17055481402951168423"
     },
     "user_tz": 420
    },
    "id": "IwXxc3ZCxX7k",
    "outputId": "999865e1-f2e4-451f-ebce-753e9188bc1e"
   },
   "outputs": [
    {
     "data": {
      "text/plain": [
       "(Wrapper)>[PointerTensor | me:38890254908 -> bob:2495096591]"
      ]
     },
     "execution_count": 27,
     "metadata": {
      "tags": []
     },
     "output_type": "execute_result"
    }
   ],
   "source": [
    "y"
   ]
  },
  {
   "cell_type": "code",
   "execution_count": 0,
   "metadata": {
    "colab": {},
    "colab_type": "code",
    "collapsed": true,
    "id": "Ion42WDaxY3N"
   },
   "outputs": [],
   "source": [
    "z = torch.add(x,y)"
   ]
  },
  {
   "cell_type": "code",
   "execution_count": 29,
   "metadata": {
    "colab": {
     "base_uri": "https://localhost:8080/",
     "height": 34
    },
    "colab_type": "code",
    "executionInfo": {
     "elapsed": 652,
     "status": "ok",
     "timestamp": 1562010253701,
     "user": {
      "displayName": "amel sellami",
      "photoUrl": "https://lh6.googleusercontent.com/-Px6ADB4fL_Q/AAAAAAAAAAI/AAAAAAAAIR8/-I05N9oZ-us/s64/photo.jpg",
      "userId": "17055481402951168423"
     },
     "user_tz": 420
    },
    "id": "DzT3VF1exd47",
    "outputId": "94735c8d-3fec-40f1-9f38-1df806c0be50"
   },
   "outputs": [
    {
     "data": {
      "text/plain": [
       "(Wrapper)>[PointerTensor | me:88740323388 -> bob:71356426714]"
      ]
     },
     "execution_count": 29,
     "metadata": {
      "tags": []
     },
     "output_type": "execute_result"
    }
   ],
   "source": [
    "z"
   ]
  },
  {
   "cell_type": "markdown",
   "metadata": {
    "colab_type": "text",
    "id": "2mKUMmFBxpeq"
   },
   "source": [
    "\n",
    "#Variables (including backpropagation!)"
   ]
  },
  {
   "cell_type": "code",
   "execution_count": 0,
   "metadata": {
    "colab": {},
    "colab_type": "code",
    "collapsed": true,
    "id": "AEqBxiOnxjWN"
   },
   "outputs": [],
   "source": [
    "\n",
    "\n",
    "x = torch.tensor([1,2,3,4,5.], requires_grad=True).send(bob)\n",
    "y = torch.tensor([1,1,1,1,1.], requires_grad=True).send(bob)\n",
    "\n"
   ]
  },
  {
   "cell_type": "code",
   "execution_count": 0,
   "metadata": {
    "colab": {},
    "colab_type": "code",
    "collapsed": true,
    "id": "5HFc3TV_xw4e"
   },
   "outputs": [],
   "source": [
    "z = (x + y).sum()"
   ]
  },
  {
   "cell_type": "code",
   "execution_count": 32,
   "metadata": {
    "colab": {
     "base_uri": "https://localhost:8080/",
     "height": 34
    },
    "colab_type": "code",
    "executionInfo": {
     "elapsed": 570,
     "status": "ok",
     "timestamp": 1562010258219,
     "user": {
      "displayName": "amel sellami",
      "photoUrl": "https://lh6.googleusercontent.com/-Px6ADB4fL_Q/AAAAAAAAAAI/AAAAAAAAIR8/-I05N9oZ-us/s64/photo.jpg",
      "userId": "17055481402951168423"
     },
     "user_tz": 420
    },
    "id": "4sE7ZxhfxzCX",
    "outputId": "3c3af91c-30a6-49f9-d95d-627af7fe6cdd"
   },
   "outputs": [
    {
     "data": {
      "text/plain": [
       "(Wrapper)>[PointerTensor | me:65767514754 -> bob:85004049282]"
      ]
     },
     "execution_count": 32,
     "metadata": {
      "tags": []
     },
     "output_type": "execute_result"
    }
   ],
   "source": [
    "z.backward()"
   ]
  },
  {
   "cell_type": "code",
   "execution_count": 0,
   "metadata": {
    "colab": {},
    "colab_type": "code",
    "collapsed": true,
    "id": "_azz5d3bx07G"
   },
   "outputs": [],
   "source": [
    "\n",
    "\n",
    "x = x.get()\n",
    "\n"
   ]
  },
  {
   "cell_type": "code",
   "execution_count": 34,
   "metadata": {
    "colab": {
     "base_uri": "https://localhost:8080/",
     "height": 34
    },
    "colab_type": "code",
    "executionInfo": {
     "elapsed": 720,
     "status": "ok",
     "timestamp": 1562010260538,
     "user": {
      "displayName": "amel sellami",
      "photoUrl": "https://lh6.googleusercontent.com/-Px6ADB4fL_Q/AAAAAAAAAAI/AAAAAAAAIR8/-I05N9oZ-us/s64/photo.jpg",
      "userId": "17055481402951168423"
     },
     "user_tz": 420
    },
    "id": "L2kCxI6Ix3jF",
    "outputId": "b10595ec-ab0d-4787-bb02-177aa5d7478f"
   },
   "outputs": [
    {
     "data": {
      "text/plain": [
       "tensor([1., 2., 3., 4., 5.], requires_grad=True)"
      ]
     },
     "execution_count": 34,
     "metadata": {
      "tags": []
     },
     "output_type": "execute_result"
    }
   ],
   "source": [
    "x"
   ]
  },
  {
   "cell_type": "code",
   "execution_count": 35,
   "metadata": {
    "colab": {
     "base_uri": "https://localhost:8080/",
     "height": 34
    },
    "colab_type": "code",
    "executionInfo": {
     "elapsed": 638,
     "status": "ok",
     "timestamp": 1562010261624,
     "user": {
      "displayName": "amel sellami",
      "photoUrl": "https://lh6.googleusercontent.com/-Px6ADB4fL_Q/AAAAAAAAAAI/AAAAAAAAIR8/-I05N9oZ-us/s64/photo.jpg",
      "userId": "17055481402951168423"
     },
     "user_tz": 420
    },
    "id": "oD_FdT24x5rZ",
    "outputId": "d7364e8b-d57b-4880-ded9-e95c58e5b003"
   },
   "outputs": [
    {
     "data": {
      "text/plain": [
       "tensor([1., 1., 1., 1., 1.])"
      ]
     },
     "execution_count": 35,
     "metadata": {
      "tags": []
     },
     "output_type": "execute_result"
    }
   ],
   "source": [
    "x.grad"
   ]
  },
  {
   "cell_type": "code",
   "execution_count": 0,
   "metadata": {
    "colab": {},
    "colab_type": "code",
    "collapsed": true,
    "id": "81PPK2D-x7me"
   },
   "outputs": [],
   "source": []
  }
 ],
 "metadata": {
  "colab": {
   "name": "Tutorial OpenMined Pysyft.ipynb",
   "provenance": [],
   "version": "0.3.2"
  },
  "kernelspec": {
   "display_name": "Python 3",
   "language": "python",
   "name": "python3"
  },
  "language_info": {
   "codemirror_mode": {
    "name": "ipython",
    "version": 3
   },
   "file_extension": ".py",
   "mimetype": "text/x-python",
   "name": "python",
   "nbconvert_exporter": "python",
   "pygments_lexer": "ipython3",
   "version": "3.6.3"
  }
 },
 "nbformat": 4,
 "nbformat_minor": 1
}
